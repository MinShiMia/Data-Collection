{
 "cells": [
  {
   "cell_type": "markdown",
   "metadata": {},
   "source": [
    "# Case Study: Sentiment Analysis"
   ]
  },
  {
   "cell_type": "markdown",
   "metadata": {},
   "source": [
    "### Data Prep"
   ]
  },
  {
   "cell_type": "code",
   "execution_count": 1,
   "metadata": {},
   "outputs": [],
   "source": [
    "import os \n",
    "import pandas as pd\n",
    "import numpy as np\n",
    "import matplotlib.pyplot as plt\n",
    "import seaborn as sns\n",
    "import statsmodels.api as sm\n",
    "import sys\n",
    "import csv\n",
    "from collections import Counter\n",
    "from sklearn.preprocessing import OneHotEncoder\n",
    "import nltk\n",
    "from nltk.corpus import stopwords\n",
    "from sklearn import model_selection\n",
    "from sklearn.model_selection import train_test_split\n",
    "from sklearn.feature_extraction.text import CountVectorizer\n",
    "from sklearn.feature_extraction.text import TfidfVectorizer\n",
    "from sklearn.linear_model import LinearRegression,LogisticRegression, SGDClassifier \n",
    "from sklearn.neighbors import KNeighborsClassifier\n",
    "from sklearn.tree import DecisionTreeClassifier\n",
    "from sklearn.ensemble import RandomForestClassifier\n",
    "from sklearn.naive_bayes import BernoulliNB, MultinomialNB\n",
    "from sklearn.svm import SVC\n",
    "from nltk.classify.scikitlearn import SklearnClassifier\n",
    "from scipy.sparse import csr_matrix, hstack\n",
    "from sklearn.metrics import roc_auc_score"
   ]
  },
  {
   "cell_type": "code",
   "execution_count": 2,
   "metadata": {},
   "outputs": [
    {
     "data": {
      "text/html": [
       "<div>\n",
       "<style scoped>\n",
       "    .dataframe tbody tr th:only-of-type {\n",
       "        vertical-align: middle;\n",
       "    }\n",
       "\n",
       "    .dataframe tbody tr th {\n",
       "        vertical-align: top;\n",
       "    }\n",
       "\n",
       "    .dataframe thead th {\n",
       "        text-align: right;\n",
       "    }\n",
       "</style>\n",
       "<table border=\"1\" class=\"dataframe\">\n",
       "  <thead>\n",
       "    <tr style=\"text-align: right;\">\n",
       "      <th></th>\n",
       "      <th>Subreddit</th>\n",
       "      <th>PostTitle</th>\n",
       "      <th>PostMonth</th>\n",
       "      <th>Comment</th>\n",
       "    </tr>\n",
       "  </thead>\n",
       "  <tbody>\n",
       "    <tr>\n",
       "      <th>0</th>\n",
       "      <td>r/Economics</td>\n",
       "      <td>If the U.S. Is in a Recession, It’s a Very Str...</td>\n",
       "      <td>2022-07-01</td>\n",
       "      <td>Someone please correct me, but doesn't that se...</td>\n",
       "    </tr>\n",
       "    <tr>\n",
       "      <th>1</th>\n",
       "      <td>r/Economics</td>\n",
       "      <td>If the U.S. Is in a Recession, It’s a Very Str...</td>\n",
       "      <td>2022-07-01</td>\n",
       "      <td>Once again, no one actually reads the article....</td>\n",
       "    </tr>\n",
       "    <tr>\n",
       "      <th>2</th>\n",
       "      <td>r/Economics</td>\n",
       "      <td>If the U.S. Is in a Recession, It’s a Very Str...</td>\n",
       "      <td>2022-07-01</td>\n",
       "      <td>Its paycuts instead of layoffs. Overall salari...</td>\n",
       "    </tr>\n",
       "    <tr>\n",
       "      <th>3</th>\n",
       "      <td>r/Economics</td>\n",
       "      <td>If the U.S. Is in a Recession, It’s a Very Str...</td>\n",
       "      <td>2022-07-01</td>\n",
       "      <td>I was wondering the same thing. How the hell c...</td>\n",
       "    </tr>\n",
       "    <tr>\n",
       "      <th>4</th>\n",
       "      <td>r/Economics</td>\n",
       "      <td>If the U.S. Is in a Recession, It’s a Very Str...</td>\n",
       "      <td>2022-07-01</td>\n",
       "      <td>The job market is not strong uniformly. While ...</td>\n",
       "    </tr>\n",
       "  </tbody>\n",
       "</table>\n",
       "</div>"
      ],
      "text/plain": [
       "     Subreddit                                          PostTitle   PostMonth  \\\n",
       "0  r/Economics  If the U.S. Is in a Recession, It’s a Very Str...  2022-07-01   \n",
       "1  r/Economics  If the U.S. Is in a Recession, It’s a Very Str...  2022-07-01   \n",
       "2  r/Economics  If the U.S. Is in a Recession, It’s a Very Str...  2022-07-01   \n",
       "3  r/Economics  If the U.S. Is in a Recession, It’s a Very Str...  2022-07-01   \n",
       "4  r/Economics  If the U.S. Is in a Recession, It’s a Very Str...  2022-07-01   \n",
       "\n",
       "                                             Comment  \n",
       "0  Someone please correct me, but doesn't that se...  \n",
       "1  Once again, no one actually reads the article....  \n",
       "2  Its paycuts instead of layoffs. Overall salari...  \n",
       "3  I was wondering the same thing. How the hell c...  \n",
       "4  The job market is not strong uniformly. While ...  "
      ]
     },
     "execution_count": 2,
     "metadata": {},
     "output_type": "execute_result"
    }
   ],
   "source": [
    "# Read in the data\n",
    "df1 = pd.read_csv('post_comments_df.csv')\n",
    "df1.head()"
   ]
  },
  {
   "cell_type": "code",
   "execution_count": 4,
   "metadata": {},
   "outputs": [],
   "source": [
    "#importing necessary libraries\n",
    "from afinn import Afinn\n",
    "\n",
    "#instantiate afinn\n",
    "afn = Afinn()\n",
    "\n",
    "PostTitles = df1['PostTitle']\n",
    "Comments = df1['Comment']\n",
    "PostMonths = df1['PostMonth']\n",
    "\n",
    "#creating list sentences\n",
    "# news_df = ['les gens pensent aux chiens','i hate flowers','hes kind and smart','we are kind to good people']\n",
    "    \n",
    "# compute scores (polarity) and labels\n",
    "post_title_scores = [afn.score(text) for text in PostTitles]\n",
    "post_comment_scores = [afn.score(text) for text in Comments]\n",
    "\n",
    "post_sentiments = ['positive' if score > 0\n",
    "             else 'negative' if score < 0\n",
    "             else 'neutral'\n",
    "             for score in post_title_scores]\n",
    "\n",
    "comment_sentiments = ['positive' if score > 0\n",
    "             else 'negative' if score < 0\n",
    "             else 'neutral'\n",
    "             for score in post_comment_scores]\n",
    "          "
   ]
  },
  {
   "cell_type": "code",
   "execution_count": 5,
   "metadata": {
    "scrolled": true
   },
   "outputs": [
    {
     "data": {
      "text/html": [
       "<div>\n",
       "<style scoped>\n",
       "    .dataframe tbody tr th:only-of-type {\n",
       "        vertical-align: middle;\n",
       "    }\n",
       "\n",
       "    .dataframe tbody tr th {\n",
       "        vertical-align: top;\n",
       "    }\n",
       "\n",
       "    .dataframe thead th {\n",
       "        text-align: right;\n",
       "    }\n",
       "</style>\n",
       "<table border=\"1\" class=\"dataframe\">\n",
       "  <thead>\n",
       "    <tr style=\"text-align: right;\">\n",
       "      <th></th>\n",
       "      <th>PostMonth</th>\n",
       "      <th>PostTitle</th>\n",
       "      <th>Comment</th>\n",
       "      <th>PostTitleScore</th>\n",
       "      <th>PostSentiment</th>\n",
       "      <th>CommentScore</th>\n",
       "      <th>CommentSentiment</th>\n",
       "    </tr>\n",
       "  </thead>\n",
       "  <tbody>\n",
       "    <tr>\n",
       "      <th>0</th>\n",
       "      <td>2022-07-01</td>\n",
       "      <td>If the U.S. Is in a Recession, It’s a Very Str...</td>\n",
       "      <td>Someone please correct me, but doesn't that se...</td>\n",
       "      <td>-1.0</td>\n",
       "      <td>negative</td>\n",
       "      <td>-15.0</td>\n",
       "      <td>negative</td>\n",
       "    </tr>\n",
       "    <tr>\n",
       "      <th>1</th>\n",
       "      <td>2022-07-01</td>\n",
       "      <td>If the U.S. Is in a Recession, It’s a Very Str...</td>\n",
       "      <td>Once again, no one actually reads the article....</td>\n",
       "      <td>-1.0</td>\n",
       "      <td>negative</td>\n",
       "      <td>-29.0</td>\n",
       "      <td>negative</td>\n",
       "    </tr>\n",
       "    <tr>\n",
       "      <th>2</th>\n",
       "      <td>2022-07-01</td>\n",
       "      <td>If the U.S. Is in a Recession, It’s a Very Str...</td>\n",
       "      <td>Its paycuts instead of layoffs. Overall salari...</td>\n",
       "      <td>-1.0</td>\n",
       "      <td>negative</td>\n",
       "      <td>-2.0</td>\n",
       "      <td>negative</td>\n",
       "    </tr>\n",
       "    <tr>\n",
       "      <th>3</th>\n",
       "      <td>2022-07-01</td>\n",
       "      <td>If the U.S. Is in a Recession, It’s a Very Str...</td>\n",
       "      <td>I was wondering the same thing. How the hell c...</td>\n",
       "      <td>-1.0</td>\n",
       "      <td>negative</td>\n",
       "      <td>-10.0</td>\n",
       "      <td>negative</td>\n",
       "    </tr>\n",
       "    <tr>\n",
       "      <th>4</th>\n",
       "      <td>2022-07-01</td>\n",
       "      <td>If the U.S. Is in a Recession, It’s a Very Str...</td>\n",
       "      <td>The job market is not strong uniformly. While ...</td>\n",
       "      <td>-1.0</td>\n",
       "      <td>negative</td>\n",
       "      <td>4.0</td>\n",
       "      <td>positive</td>\n",
       "    </tr>\n",
       "    <tr>\n",
       "      <th>...</th>\n",
       "      <td>...</td>\n",
       "      <td>...</td>\n",
       "      <td>...</td>\n",
       "      <td>...</td>\n",
       "      <td>...</td>\n",
       "      <td>...</td>\n",
       "      <td>...</td>\n",
       "    </tr>\n",
       "    <tr>\n",
       "      <th>1741</th>\n",
       "      <td>2022-01-01</td>\n",
       "      <td>Data science job market is shrinking</td>\n",
       "      <td>It's shrinking for real. Coz lots positions ar...</td>\n",
       "      <td>0.0</td>\n",
       "      <td>neutral</td>\n",
       "      <td>0.0</td>\n",
       "      <td>neutral</td>\n",
       "    </tr>\n",
       "    <tr>\n",
       "      <th>1742</th>\n",
       "      <td>2022-01-01</td>\n",
       "      <td>Data science job market is shrinking</td>\n",
       "      <td>Overall I think the market hasn't changed much...</td>\n",
       "      <td>0.0</td>\n",
       "      <td>neutral</td>\n",
       "      <td>1.0</td>\n",
       "      <td>positive</td>\n",
       "    </tr>\n",
       "    <tr>\n",
       "      <th>1743</th>\n",
       "      <td>2022-01-01</td>\n",
       "      <td>Data science job market is shrinking</td>\n",
       "      <td>Made up an [infographic](https://infogram.com/...</td>\n",
       "      <td>0.0</td>\n",
       "      <td>neutral</td>\n",
       "      <td>-1.0</td>\n",
       "      <td>negative</td>\n",
       "    </tr>\n",
       "    <tr>\n",
       "      <th>1744</th>\n",
       "      <td>2022-01-01</td>\n",
       "      <td>Data science job market is shrinking</td>\n",
       "      <td>literally any and every STEM major with a modi...</td>\n",
       "      <td>0.0</td>\n",
       "      <td>neutral</td>\n",
       "      <td>7.0</td>\n",
       "      <td>positive</td>\n",
       "    </tr>\n",
       "    <tr>\n",
       "      <th>1745</th>\n",
       "      <td>2022-01-01</td>\n",
       "      <td>Data science job market is shrinking</td>\n",
       "      <td>No, Absolutely no Each and Every company in fu...</td>\n",
       "      <td>0.0</td>\n",
       "      <td>neutral</td>\n",
       "      <td>-2.0</td>\n",
       "      <td>negative</td>\n",
       "    </tr>\n",
       "  </tbody>\n",
       "</table>\n",
       "<p>1746 rows × 7 columns</p>\n",
       "</div>"
      ],
      "text/plain": [
       "      PostMonth                                          PostTitle  \\\n",
       "0    2022-07-01  If the U.S. Is in a Recession, It’s a Very Str...   \n",
       "1    2022-07-01  If the U.S. Is in a Recession, It’s a Very Str...   \n",
       "2    2022-07-01  If the U.S. Is in a Recession, It’s a Very Str...   \n",
       "3    2022-07-01  If the U.S. Is in a Recession, It’s a Very Str...   \n",
       "4    2022-07-01  If the U.S. Is in a Recession, It’s a Very Str...   \n",
       "...         ...                                                ...   \n",
       "1741 2022-01-01               Data science job market is shrinking   \n",
       "1742 2022-01-01               Data science job market is shrinking   \n",
       "1743 2022-01-01               Data science job market is shrinking   \n",
       "1744 2022-01-01               Data science job market is shrinking   \n",
       "1745 2022-01-01               Data science job market is shrinking   \n",
       "\n",
       "                                                Comment  PostTitleScore  \\\n",
       "0     Someone please correct me, but doesn't that se...            -1.0   \n",
       "1     Once again, no one actually reads the article....            -1.0   \n",
       "2     Its paycuts instead of layoffs. Overall salari...            -1.0   \n",
       "3     I was wondering the same thing. How the hell c...            -1.0   \n",
       "4     The job market is not strong uniformly. While ...            -1.0   \n",
       "...                                                 ...             ...   \n",
       "1741  It's shrinking for real. Coz lots positions ar...             0.0   \n",
       "1742  Overall I think the market hasn't changed much...             0.0   \n",
       "1743  Made up an [infographic](https://infogram.com/...             0.0   \n",
       "1744  literally any and every STEM major with a modi...             0.0   \n",
       "1745  No, Absolutely no Each and Every company in fu...             0.0   \n",
       "\n",
       "     PostSentiment  CommentScore CommentSentiment  \n",
       "0         negative         -15.0         negative  \n",
       "1         negative         -29.0         negative  \n",
       "2         negative          -2.0         negative  \n",
       "3         negative         -10.0         negative  \n",
       "4         negative           4.0         positive  \n",
       "...            ...           ...              ...  \n",
       "1741       neutral           0.0          neutral  \n",
       "1742       neutral           1.0         positive  \n",
       "1743       neutral          -1.0         negative  \n",
       "1744       neutral           7.0         positive  \n",
       "1745       neutral          -2.0         negative  \n",
       "\n",
       "[1746 rows x 7 columns]"
      ]
     },
     "execution_count": 5,
     "metadata": {},
     "output_type": "execute_result"
    }
   ],
   "source": [
    "# dataframe creation\n",
    "df1_2 = pd.DataFrame({'PostMonth': PostMonths, 'PostTitle': PostTitles, 'Comment': Comments, 'PostTitleScore': post_title_scores, 'PostSentiment': post_sentiments, 'CommentScore': post_comment_scores, 'CommentSentiment': comment_sentiments})\n",
    "df1_2['PostMonth'] = pd.to_datetime(df1_2['PostMonth'])\n",
    "df1_2"
   ]
  },
  {
   "cell_type": "code",
   "execution_count": 6,
   "metadata": {},
   "outputs": [
    {
     "name": "stderr",
     "output_type": "stream",
     "text": [
      "/var/folders/kj/ym0ghsln6y34n55vwsjd8ltm0000gn/T/ipykernel_5193/2338267856.py:1: FutureWarning: Indexing with multiple keys (implicitly converted to a tuple of keys) will be deprecated, use a list instead.\n",
      "  df1_3 = df1_2.groupby(['PostMonth'])['PostTitleScore','CommentScore'].mean()\n"
     ]
    },
    {
     "data": {
      "text/html": [
       "<div>\n",
       "<style scoped>\n",
       "    .dataframe tbody tr th:only-of-type {\n",
       "        vertical-align: middle;\n",
       "    }\n",
       "\n",
       "    .dataframe tbody tr th {\n",
       "        vertical-align: top;\n",
       "    }\n",
       "\n",
       "    .dataframe thead th {\n",
       "        text-align: right;\n",
       "    }\n",
       "</style>\n",
       "<table border=\"1\" class=\"dataframe\">\n",
       "  <thead>\n",
       "    <tr style=\"text-align: right;\">\n",
       "      <th></th>\n",
       "      <th>PostTitleScore</th>\n",
       "      <th>CommentScore</th>\n",
       "    </tr>\n",
       "    <tr>\n",
       "      <th>PostMonth</th>\n",
       "      <th></th>\n",
       "      <th></th>\n",
       "    </tr>\n",
       "  </thead>\n",
       "  <tbody>\n",
       "    <tr>\n",
       "      <th>2022-01-01</th>\n",
       "      <td>0.672619</td>\n",
       "      <td>0.113095</td>\n",
       "    </tr>\n",
       "    <tr>\n",
       "      <th>2022-02-01</th>\n",
       "      <td>-1.773585</td>\n",
       "      <td>1.249057</td>\n",
       "    </tr>\n",
       "    <tr>\n",
       "      <th>2022-03-01</th>\n",
       "      <td>0.043478</td>\n",
       "      <td>0.934783</td>\n",
       "    </tr>\n",
       "    <tr>\n",
       "      <th>2022-04-01</th>\n",
       "      <td>-3.380282</td>\n",
       "      <td>0.859155</td>\n",
       "    </tr>\n",
       "    <tr>\n",
       "      <th>2022-05-01</th>\n",
       "      <td>1.404372</td>\n",
       "      <td>-0.131148</td>\n",
       "    </tr>\n",
       "    <tr>\n",
       "      <th>2022-06-01</th>\n",
       "      <td>-0.657658</td>\n",
       "      <td>0.777778</td>\n",
       "    </tr>\n",
       "    <tr>\n",
       "      <th>2022-07-01</th>\n",
       "      <td>-1.090395</td>\n",
       "      <td>-1.028249</td>\n",
       "    </tr>\n",
       "    <tr>\n",
       "      <th>2022-08-01</th>\n",
       "      <td>0.453488</td>\n",
       "      <td>-0.104651</td>\n",
       "    </tr>\n",
       "    <tr>\n",
       "      <th>2022-09-01</th>\n",
       "      <td>-2.815385</td>\n",
       "      <td>0.184615</td>\n",
       "    </tr>\n",
       "    <tr>\n",
       "      <th>2022-10-01</th>\n",
       "      <td>-0.928571</td>\n",
       "      <td>-0.119048</td>\n",
       "    </tr>\n",
       "    <tr>\n",
       "      <th>2022-11-01</th>\n",
       "      <td>-0.444444</td>\n",
       "      <td>-0.407407</td>\n",
       "    </tr>\n",
       "  </tbody>\n",
       "</table>\n",
       "</div>"
      ],
      "text/plain": [
       "            PostTitleScore  CommentScore\n",
       "PostMonth                               \n",
       "2022-01-01        0.672619      0.113095\n",
       "2022-02-01       -1.773585      1.249057\n",
       "2022-03-01        0.043478      0.934783\n",
       "2022-04-01       -3.380282      0.859155\n",
       "2022-05-01        1.404372     -0.131148\n",
       "2022-06-01       -0.657658      0.777778\n",
       "2022-07-01       -1.090395     -1.028249\n",
       "2022-08-01        0.453488     -0.104651\n",
       "2022-09-01       -2.815385      0.184615\n",
       "2022-10-01       -0.928571     -0.119048\n",
       "2022-11-01       -0.444444     -0.407407"
      ]
     },
     "execution_count": 6,
     "metadata": {},
     "output_type": "execute_result"
    }
   ],
   "source": [
    "df1_3 = df1_2.groupby(['PostMonth'])['PostTitleScore','CommentScore'].mean()\n",
    "df1_3"
   ]
  },
  {
   "cell_type": "code",
   "execution_count": 7,
   "metadata": {},
   "outputs": [
    {
     "name": "stdout",
     "output_type": "stream",
     "text": [
      "<class 'pandas.core.frame.DataFrame'>\n",
      "DatetimeIndex: 11 entries, 2022-01-01 to 2022-11-01\n",
      "Data columns (total 2 columns):\n",
      " #   Column          Non-Null Count  Dtype  \n",
      "---  ------          --------------  -----  \n",
      " 0   PostTitleScore  11 non-null     float64\n",
      " 1   CommentScore    11 non-null     float64\n",
      "dtypes: float64(2)\n",
      "memory usage: 264.0 bytes\n"
     ]
    }
   ],
   "source": [
    "df1_3.info()"
   ]
  },
  {
   "cell_type": "code",
   "execution_count": 8,
   "metadata": {},
   "outputs": [
    {
     "data": {
      "text/html": [
       "<div>\n",
       "<style scoped>\n",
       "    .dataframe tbody tr th:only-of-type {\n",
       "        vertical-align: middle;\n",
       "    }\n",
       "\n",
       "    .dataframe tbody tr th {\n",
       "        vertical-align: top;\n",
       "    }\n",
       "\n",
       "    .dataframe thead th {\n",
       "        text-align: right;\n",
       "    }\n",
       "</style>\n",
       "<table border=\"1\" class=\"dataframe\">\n",
       "  <thead>\n",
       "    <tr style=\"text-align: right;\">\n",
       "      <th></th>\n",
       "      <th>PostTitleScore</th>\n",
       "      <th>CommentScore</th>\n",
       "    </tr>\n",
       "  </thead>\n",
       "  <tbody>\n",
       "    <tr>\n",
       "      <th>count</th>\n",
       "      <td>11.000000</td>\n",
       "      <td>11.000000</td>\n",
       "    </tr>\n",
       "    <tr>\n",
       "      <th>mean</th>\n",
       "      <td>-0.774215</td>\n",
       "      <td>0.211635</td>\n",
       "    </tr>\n",
       "    <tr>\n",
       "      <th>std</th>\n",
       "      <td>1.456649</td>\n",
       "      <td>0.678000</td>\n",
       "    </tr>\n",
       "    <tr>\n",
       "      <th>min</th>\n",
       "      <td>-3.380282</td>\n",
       "      <td>-1.028249</td>\n",
       "    </tr>\n",
       "    <tr>\n",
       "      <th>25%</th>\n",
       "      <td>-1.431990</td>\n",
       "      <td>-0.125098</td>\n",
       "    </tr>\n",
       "    <tr>\n",
       "      <th>50%</th>\n",
       "      <td>-0.657658</td>\n",
       "      <td>0.113095</td>\n",
       "    </tr>\n",
       "    <tr>\n",
       "      <th>75%</th>\n",
       "      <td>0.248483</td>\n",
       "      <td>0.818466</td>\n",
       "    </tr>\n",
       "    <tr>\n",
       "      <th>max</th>\n",
       "      <td>1.404372</td>\n",
       "      <td>1.249057</td>\n",
       "    </tr>\n",
       "  </tbody>\n",
       "</table>\n",
       "</div>"
      ],
      "text/plain": [
       "       PostTitleScore  CommentScore\n",
       "count       11.000000     11.000000\n",
       "mean        -0.774215      0.211635\n",
       "std          1.456649      0.678000\n",
       "min         -3.380282     -1.028249\n",
       "25%         -1.431990     -0.125098\n",
       "50%         -0.657658      0.113095\n",
       "75%          0.248483      0.818466\n",
       "max          1.404372      1.249057"
      ]
     },
     "execution_count": 8,
     "metadata": {},
     "output_type": "execute_result"
    }
   ],
   "source": [
    "df1_3.describe()"
   ]
  },
  {
   "cell_type": "code",
   "execution_count": 9,
   "metadata": {},
   "outputs": [
    {
     "data": {
      "image/png": "[encoded data removed]",
      "text/plain": [
       "<Figure size 720x576 with 1 Axes>"
      ]
     },
     "metadata": {
      "needs_background": "light"
     },
     "output_type": "display_data"
    }
   ],
   "source": [
    "Months = ['2022-01', '2022-02', '2022-03', '2022-04', '2022-05', '2022-06', '2022-07', '2022-08', '2022-09', '2022-10', '2022-11']\n",
    "\n",
    "plt.figure(figsize = (10, 8))\n",
    "sns.lineplot(data = df1_3, x = Months, y = \"PostTitleScore\", label = 'PostTitleScore')\n",
    "sns.lineplot(data = df1_3, x = Months, y = \"CommentScore\", label = 'CommentScore')\n",
    "plt.xlabel(\"Month\")\n",
    "plt.ylabel(\"Sentiment Score\")\n",
    "plt.title('Sentiment Score of Reddit Post Title and Comments in 2022', fontsize = 20)\n",
    "plt.show()\n"
   ]
  },
  {
   "cell_type": "code",
   "execution_count": 10,
   "metadata": {},
   "outputs": [
    {
     "data": {
      "text/html": [
       "<div>\n",
       "<style scoped>\n",
       "    .dataframe tbody tr th:only-of-type {\n",
       "        vertical-align: middle;\n",
       "    }\n",
       "\n",
       "    .dataframe tbody tr th {\n",
       "        vertical-align: top;\n",
       "    }\n",
       "\n",
       "    .dataframe thead th {\n",
       "        text-align: right;\n",
       "    }\n",
       "</style>\n",
       "<table border=\"1\" class=\"dataframe\">\n",
       "  <thead>\n",
       "    <tr style=\"text-align: right;\">\n",
       "      <th></th>\n",
       "      <th>PostMonth</th>\n",
       "      <th>PostTitle</th>\n",
       "      <th>Comment</th>\n",
       "      <th>PostTitleScore</th>\n",
       "      <th>PostSentiment</th>\n",
       "      <th>CommentScore</th>\n",
       "      <th>CommentSentiment</th>\n",
       "    </tr>\n",
       "  </thead>\n",
       "  <tbody>\n",
       "    <tr>\n",
       "      <th>0</th>\n",
       "      <td>2022-07-01</td>\n",
       "      <td>If the U.S. Is in a Recession, It’s a Very Str...</td>\n",
       "      <td>Someone please correct me, but doesn't that se...</td>\n",
       "      <td>-1.0</td>\n",
       "      <td>negative</td>\n",
       "      <td>-15.0</td>\n",
       "      <td>negative</td>\n",
       "    </tr>\n",
       "    <tr>\n",
       "      <th>1</th>\n",
       "      <td>2022-07-01</td>\n",
       "      <td>If the U.S. Is in a Recession, It’s a Very Str...</td>\n",
       "      <td>Once again, no one actually reads the article....</td>\n",
       "      <td>-1.0</td>\n",
       "      <td>negative</td>\n",
       "      <td>-29.0</td>\n",
       "      <td>negative</td>\n",
       "    </tr>\n",
       "    <tr>\n",
       "      <th>2</th>\n",
       "      <td>2022-07-01</td>\n",
       "      <td>If the U.S. Is in a Recession, It’s a Very Str...</td>\n",
       "      <td>Its paycuts instead of layoffs. Overall salari...</td>\n",
       "      <td>-1.0</td>\n",
       "      <td>negative</td>\n",
       "      <td>-2.0</td>\n",
       "      <td>negative</td>\n",
       "    </tr>\n",
       "    <tr>\n",
       "      <th>3</th>\n",
       "      <td>2022-07-01</td>\n",
       "      <td>If the U.S. Is in a Recession, It’s a Very Str...</td>\n",
       "      <td>I was wondering the same thing. How the hell c...</td>\n",
       "      <td>-1.0</td>\n",
       "      <td>negative</td>\n",
       "      <td>-10.0</td>\n",
       "      <td>negative</td>\n",
       "    </tr>\n",
       "    <tr>\n",
       "      <th>4</th>\n",
       "      <td>2022-07-01</td>\n",
       "      <td>If the U.S. Is in a Recession, It’s a Very Str...</td>\n",
       "      <td>The job market is not strong uniformly. While ...</td>\n",
       "      <td>-1.0</td>\n",
       "      <td>negative</td>\n",
       "      <td>4.0</td>\n",
       "      <td>positive</td>\n",
       "    </tr>\n",
       "  </tbody>\n",
       "</table>\n",
       "</div>"
      ],
      "text/plain": [
       "   PostMonth                                          PostTitle  \\\n",
       "0 2022-07-01  If the U.S. Is in a Recession, It’s a Very Str...   \n",
       "1 2022-07-01  If the U.S. Is in a Recession, It’s a Very Str...   \n",
       "2 2022-07-01  If the U.S. Is in a Recession, It’s a Very Str...   \n",
       "3 2022-07-01  If the U.S. Is in a Recession, It’s a Very Str...   \n",
       "4 2022-07-01  If the U.S. Is in a Recession, It’s a Very Str...   \n",
       "\n",
       "                                             Comment  PostTitleScore  \\\n",
       "0  Someone please correct me, but doesn't that se...            -1.0   \n",
       "1  Once again, no one actually reads the article....            -1.0   \n",
       "2  Its paycuts instead of layoffs. Overall salari...            -1.0   \n",
       "3  I was wondering the same thing. How the hell c...            -1.0   \n",
       "4  The job market is not strong uniformly. While ...            -1.0   \n",
       "\n",
       "  PostSentiment  CommentScore CommentSentiment  \n",
       "0      negative         -15.0         negative  \n",
       "1      negative         -29.0         negative  \n",
       "2      negative          -2.0         negative  \n",
       "3      negative         -10.0         negative  \n",
       "4      negative           4.0         positive  "
      ]
     },
     "execution_count": 10,
     "metadata": {},
     "output_type": "execute_result"
    }
   ],
   "source": [
    "df1_2.head()"
   ]
  },
  {
   "cell_type": "code",
   "execution_count": 11,
   "metadata": {},
   "outputs": [],
   "source": [
    "from sklearn.model_selection import train_test_split\n",
    "\n",
    "# Split data into training and test sets\n",
    "X_train, X_test, y_train, y_test = train_test_split(df1_2['Comment'], \n",
    "                                                    df1_2['CommentScore'],\n",
    "                                                    test_size = 0.25,\n",
    "                                                    random_state=0)"
   ]
  },
  {
   "cell_type": "code",
   "execution_count": 12,
   "metadata": {},
   "outputs": [
    {
     "name": "stdout",
     "output_type": "stream",
     "text": [
      "X_train first entry:\n",
      "\n",
      " So, yes, it’s a tight labor market. But the tightness is in part due to the labor market (depressed prime age LF, COVID deaths, unhappiness with previous industries) so that workers will switch to find better wages and/or benefits and/or schedules.\n",
      "\n",
      "However; there are some considerable non-market constraints (childcare) that are leading to these outcomes. \n",
      "\n",
      "Also, let me point out that the difference between openings and quits has to be interpreted with caution. When trying to attract workers, businesses will often over-advertise open positions.\n",
      "\n",
      "\n",
      "X_train shape:  (1309,)\n"
     ]
    }
   ],
   "source": [
    "print('X_train first entry:\\n\\n', X_train.iloc[0])\n",
    "print('\\n\\nX_train shape: ', X_train.shape)"
   ]
  },
  {
   "cell_type": "markdown",
   "metadata": {},
   "source": [
    "# CountVectorizer\n",
    "Bag of words"
   ]
  },
  {
   "cell_type": "code",
   "execution_count": 13,
   "metadata": {},
   "outputs": [
    {
     "data": {
      "text/html": [
       "<style>#sk-container-id-1 {color: black;background-color: white;}#sk-container-id-1 pre{padding: 0;}#sk-container-id-1 div.sk-toggleable {background-color: white;}#sk-container-id-1 label.sk-toggleable__label {cursor: pointer;display: block;width: 100%;margin-bottom: 0;padding: 0.3em;box-sizing: border-box;text-align: center;}#sk-container-id-1 label.sk-toggleable__label-arrow:before {content: \"▸\";float: left;margin-right: 0.25em;color: #696969;}#sk-container-id-1 label.sk-toggleable__label-arrow:hover:before {color: black;}#sk-container-id-1 div.sk-estimator:hover label.sk-toggleable__label-arrow:before {color: black;}#sk-container-id-1 div.sk-toggleable__content {max-height: 0;max-width: 0;overflow: hidden;text-align: left;background-color: #f0f8ff;}#sk-container-id-1 div.sk-toggleable__content pre {margin: 0.2em;color: black;border-radius: 0.25em;background-color: #f0f8ff;}#sk-container-id-1 input.sk-toggleable__control:checked~div.sk-toggleable__content {max-height: 200px;max-width: 100%;overflow: auto;}#sk-container-id-1 input.sk-toggleable__control:checked~label.sk-toggleable__label-arrow:before {content: \"▾\";}#sk-container-id-1 div.sk-estimator input.sk-toggleable__control:checked~label.sk-toggleable__label {background-color: #d4ebff;}#sk-container-id-1 div.sk-label input.sk-toggleable__control:checked~label.sk-toggleable__label {background-color: #d4ebff;}#sk-container-id-1 input.sk-hidden--visually {border: 0;clip: rect(1px 1px 1px 1px);clip: rect(1px, 1px, 1px, 1px);height: 1px;margin: -1px;overflow: hidden;padding: 0;position: absolute;width: 1px;}#sk-container-id-1 div.sk-estimator {font-family: monospace;background-color: #f0f8ff;border: 1px dotted black;border-radius: 0.25em;box-sizing: border-box;margin-bottom: 0.5em;}#sk-container-id-1 div.sk-estimator:hover {background-color: #d4ebff;}#sk-container-id-1 div.sk-parallel-item::after {content: \"\";width: 100%;border-bottom: 1px solid gray;flex-grow: 1;}#sk-container-id-1 div.sk-label:hover label.sk-toggleable__label {background-color: #d4ebff;}#sk-container-id-1 div.sk-serial::before {content: \"\";position: absolute;border-left: 1px solid gray;box-sizing: border-box;top: 0;bottom: 0;left: 50%;z-index: 0;}#sk-container-id-1 div.sk-serial {display: flex;flex-direction: column;align-items: center;background-color: white;padding-right: 0.2em;padding-left: 0.2em;position: relative;}#sk-container-id-1 div.sk-item {position: relative;z-index: 1;}#sk-container-id-1 div.sk-parallel {display: flex;align-items: stretch;justify-content: center;background-color: white;position: relative;}#sk-container-id-1 div.sk-item::before, #sk-container-id-1 div.sk-parallel-item::before {content: \"\";position: absolute;border-left: 1px solid gray;box-sizing: border-box;top: 0;bottom: 0;left: 50%;z-index: -1;}#sk-container-id-1 div.sk-parallel-item {display: flex;flex-direction: column;z-index: 1;position: relative;background-color: white;}#sk-container-id-1 div.sk-parallel-item:first-child::after {align-self: flex-end;width: 50%;}#sk-container-id-1 div.sk-parallel-item:last-child::after {align-self: flex-start;width: 50%;}#sk-container-id-1 div.sk-parallel-item:only-child::after {width: 0;}#sk-container-id-1 div.sk-dashed-wrapped {border: 1px dashed gray;margin: 0 0.4em 0.5em 0.4em;box-sizing: border-box;padding-bottom: 0.4em;background-color: white;}#sk-container-id-1 div.sk-label label {font-family: monospace;font-weight: bold;display: inline-block;line-height: 1.2em;}#sk-container-id-1 div.sk-label-container {text-align: center;}#sk-container-id-1 div.sk-container {/* jupyter's `normalize.less` sets `[hidden] { display: none; }` but bootstrap.min.css set `[hidden] { display: none !important; }` so we also need the `!important` here to be able to override the default hidden behavior on the sphinx rendered scikit-learn.org. See: https://github.com/scikit-learn/scikit-learn/issues/21755 */display: inline-block !important;position: relative;}#sk-container-id-1 div.sk-text-repr-fallback {display: none;}</style><div id=\"sk-container-id-1\" class=\"sk-top-container\"><div class=\"sk-text-repr-fallback\"><pre>CountVectorizer()</pre><b>In a Jupyter environment, please rerun this cell to show the HTML representation or trust the notebook. <br />On GitHub, the HTML representation is unable to render, please try loading this page with nbviewer.org.</b></div><div class=\"sk-container\" hidden><div class=\"sk-item\"><div class=\"sk-estimator sk-toggleable\"><input class=\"sk-toggleable__control sk-hidden--visually\" id=\"sk-estimator-id-1\" type=\"checkbox\" checked><label for=\"sk-estimator-id-1\" class=\"sk-toggleable__label sk-toggleable__label-arrow\">CountVectorizer</label><div class=\"sk-toggleable__content\"><pre>CountVectorizer()</pre></div></div></div></div></div>"
      ],
      "text/plain": [
       "CountVectorizer()"
      ]
     },
     "execution_count": 13,
     "metadata": {},
     "output_type": "execute_result"
    }
   ],
   "source": [
    "from sklearn.feature_extraction.text import CountVectorizer\n",
    "\n",
    "# Fit the CountVectorizer to the training data\n",
    "vect = CountVectorizer().fit(X_train)\n",
    "vect"
   ]
  },
  {
   "cell_type": "code",
   "execution_count": 14,
   "metadata": {
    "scrolled": false
   },
   "outputs": [
    {
     "data": {
      "text/plain": [
       "array(['00', 'deficit', 'lived', 'shared'], dtype=object)"
      ]
     },
     "execution_count": 14,
     "metadata": {},
     "output_type": "execute_result"
    }
   ],
   "source": [
    "vect.get_feature_names_out()[::2000]"
   ]
  },
  {
   "cell_type": "code",
   "execution_count": 15,
   "metadata": {},
   "outputs": [
    {
     "name": "stderr",
     "output_type": "stream",
     "text": [
      "/Users/min/opt/anaconda3/lib/python3.9/site-packages/sklearn/utils/deprecation.py:87: FutureWarning: Function get_feature_names is deprecated; get_feature_names is deprecated in 1.0 and will be removed in 1.2. Please use get_feature_names_out instead.\n",
      "  warnings.warn(msg, category=FutureWarning)\n"
     ]
    },
    {
     "data": {
      "text/plain": [
       "7448"
      ]
     },
     "execution_count": 15,
     "metadata": {},
     "output_type": "execute_result"
    }
   ],
   "source": [
    "len(vect.get_feature_names())"
   ]
  },
  {
   "cell_type": "code",
   "execution_count": 16,
   "metadata": {
    "scrolled": true
   },
   "outputs": [
    {
     "name": "stdout",
     "output_type": "stream",
     "text": [
      "  (0, 606)\t1\n",
      "  (0, 631)\t1\n",
      "  (0, 683)\t1\n",
      "  (0, 722)\t3\n",
      "  (0, 814)\t2\n",
      "  (0, 890)\t1\n",
      "  (0, 1012)\t1\n",
      "  (0, 1065)\t1\n",
      "  (0, 1071)\t1\n",
      "  (0, 1073)\t1\n",
      "  (0, 1273)\t1\n",
      "  (0, 1278)\t1\n",
      "  (0, 1378)\t1\n",
      "  (0, 1451)\t1\n",
      "  (0, 1710)\t1\n",
      "  (0, 1725)\t1\n",
      "  (0, 1838)\t1\n",
      "  (0, 1964)\t1\n",
      "  (0, 2057)\t1\n",
      "  (0, 2123)\t1\n",
      "  (0, 2315)\t1\n",
      "  (0, 2794)\t1\n",
      "  (0, 3220)\t1\n",
      "  (0, 3373)\t1\n",
      "  (0, 3507)\t1\n",
      "  :\t:\n",
      "  (1308, 2228)\t1\n",
      "  (1308, 2820)\t1\n",
      "  (1308, 3127)\t1\n",
      "  (1308, 3230)\t1\n",
      "  (1308, 3698)\t1\n",
      "  (1308, 3706)\t1\n",
      "  (1308, 3737)\t1\n",
      "  (1308, 3768)\t1\n",
      "  (1308, 3806)\t1\n",
      "  (1308, 4061)\t1\n",
      "  (1308, 4716)\t1\n",
      "  (1308, 4846)\t1\n",
      "  (1308, 4887)\t1\n",
      "  (1308, 5585)\t1\n",
      "  (1308, 5899)\t1\n",
      "  (1308, 6081)\t1\n",
      "  (1308, 6583)\t1\n",
      "  (1308, 6683)\t1\n",
      "  (1308, 6700)\t1\n",
      "  (1308, 6711)\t1\n",
      "  (1308, 6720)\t1\n",
      "  (1308, 6749)\t1\n",
      "  (1308, 6871)\t1\n",
      "  (1308, 7273)\t1\n",
      "  (1308, 7420)\t1\n",
      "  (0, 491)\t1\n",
      "  (0, 669)\t1\n",
      "  (0, 691)\t1\n",
      "  (0, 814)\t2\n",
      "  (0, 1012)\t2\n",
      "  (0, 1032)\t1\n",
      "  (0, 1082)\t1\n",
      "  (0, 1285)\t1\n",
      "  (0, 1836)\t1\n",
      "  (0, 2446)\t2\n",
      "  (0, 2553)\t1\n",
      "  (0, 2621)\t1\n",
      "  (0, 2623)\t1\n",
      "  (0, 2904)\t1\n",
      "  (0, 2953)\t1\n",
      "  (0, 3003)\t2\n",
      "  (0, 3127)\t1\n",
      "  (0, 3220)\t1\n",
      "  (0, 3309)\t1\n",
      "  (0, 3384)\t1\n",
      "  (0, 3698)\t2\n",
      "  (0, 3701)\t1\n",
      "  (0, 3706)\t1\n",
      "  (0, 3735)\t1\n",
      "  (0, 3737)\t1\n",
      "  :\t:\n",
      "  (435, 938)\t1\n",
      "  (435, 1278)\t1\n",
      "  (435, 2743)\t1\n",
      "  (435, 3051)\t1\n",
      "  (435, 3293)\t1\n",
      "  (435, 3569)\t1\n",
      "  (435, 4689)\t1\n",
      "  (435, 5387)\t1\n",
      "  (435, 5434)\t1\n",
      "  (435, 5845)\t1\n",
      "  (435, 6681)\t1\n",
      "  (435, 6683)\t1\n",
      "  (435, 6863)\t1\n",
      "  (435, 7221)\t1\n",
      "  (435, 7273)\t1\n",
      "  (435, 7308)\t1\n",
      "  (435, 7356)\t1\n",
      "  (435, 7411)\t1\n",
      "  (436, 2414)\t1\n",
      "  (436, 2492)\t1\n",
      "  (436, 2558)\t1\n",
      "  (436, 2870)\t2\n",
      "  (436, 3091)\t1\n",
      "  (436, 3935)\t1\n",
      "  (436, 6802)\t1\n"
     ]
    }
   ],
   "source": [
    "# transform the documents in the training and testing data to a document-term matrix\n",
    "X_train_vectorized = vect.transform(X_train)\n",
    "print(X_train_vectorized)\n",
    "X_test_vectorized = vect.transform(X_test)\n",
    "print(X_test_vectorized)"
   ]
  },
  {
   "cell_type": "code",
   "execution_count": 17,
   "metadata": {},
   "outputs": [],
   "source": [
    "# Train the KNN model\n",
    "knnmodel = KNeighborsClassifier()"
   ]
  },
  {
   "cell_type": "code",
   "execution_count": 18,
   "metadata": {},
   "outputs": [
    {
     "name": "stderr",
     "output_type": "stream",
     "text": [
      "/Users/min/opt/anaconda3/lib/python3.9/site-packages/sklearn/model_selection/_split.py:684: UserWarning: The least populated class in y has only 1 members, which is less than n_splits=10.\n",
      "  warnings.warn(\n"
     ]
    },
    {
     "name": "stdout",
     "output_type": "stream",
     "text": [
      "Accuracy of knn model is:  0.20243100411039344\n"
     ]
    }
   ],
   "source": [
    "# Predict the transformed test documents using KNN model\n",
    "metric = 'accuracy'\n",
    "kf = model_selection.StratifiedKFold(n_splits=10)\n",
    "cvres = model_selection.cross_val_score(knnmodel, X_train_vectorized, y_train, cv=kf, scoring=metric)\n",
    "print('Accuracy of knn model is: ', cvres.mean())"
   ]
  },
  {
   "cell_type": "code",
   "execution_count": 19,
   "metadata": {},
   "outputs": [],
   "source": [
    "# Train the navie bayes model\n",
    "nbmodel = MultinomialNB()"
   ]
  },
  {
   "cell_type": "code",
   "execution_count": 20,
   "metadata": {},
   "outputs": [
    {
     "name": "stderr",
     "output_type": "stream",
     "text": [
      "/Users/min/opt/anaconda3/lib/python3.9/site-packages/sklearn/model_selection/_split.py:684: UserWarning: The least populated class in y has only 1 members, which is less than n_splits=10.\n",
      "  warnings.warn(\n"
     ]
    },
    {
     "name": "stdout",
     "output_type": "stream",
     "text": [
      "Accuracy of random naive bayes model is:  0.1802701115678215\n"
     ]
    }
   ],
   "source": [
    "# Predict the transformed test documents using decision tree regression model\n",
    "metric = 'accuracy'\n",
    "kf = model_selection.StratifiedKFold(n_splits=10)\n",
    "cvres = model_selection.cross_val_score(nbmodel, X_train_vectorized, y_train, cv=kf, scoring=metric)\n",
    "print('Accuracy of random naive bayes model is: ', cvres.mean())"
   ]
  }
 ],
 "metadata": {
  "kernelspec": {
   "display_name": "Python 3 (ipykernel)",
   "language": "python",
   "name": "python3"
  },
  "language_info": {
   "codemirror_mode": {
    "name": "ipython",
    "version": 3
   },
   "file_extension": ".py",
   "mimetype": "text/x-python",
   "name": "python",
   "nbconvert_exporter": "python",
   "pygments_lexer": "ipython3",
   "version": "3.9.12"
  }
 },
 "nbformat": 4,
 "nbformat_minor": 2
}
