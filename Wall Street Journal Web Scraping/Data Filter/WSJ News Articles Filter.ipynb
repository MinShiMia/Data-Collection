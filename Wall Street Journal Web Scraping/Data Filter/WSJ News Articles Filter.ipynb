{
 "cells": [
  {
   "cell_type": "markdown",
   "id": "64bde5de",
   "metadata": {},
   "source": [
    "<hr style=\"border:2px solid black\">\n",
    "<b> This file is utilized to combine the scraped news article files, drop the null value, filter out the articles you needed, preprocess data and generate a final cvs file. </b>\n",
    "\n",
    "<hr style=\"border:2px solid black\">"
   ]
  },
  {
   "cell_type": "code",
   "execution_count": 1,
   "id": "31cee14c",
   "metadata": {},
   "outputs": [],
   "source": [
    "import pandas as pd\n",
    "import numpy as np\n",
    "import matplotlib.pyplot as plt\n",
    "import seaborn as sn\n",
    "import datetime\n",
    "from datetime import datetime\n",
    "import re\n",
    "import glob"
   ]
  },
  {
   "cell_type": "code",
   "execution_count": 2,
   "id": "17af4ab5",
   "metadata": {},
   "outputs": [],
   "source": [
    "path = r'wsj2021_2022/'\n",
    "all_files = glob.glob(path + 'wsj_articles_*.csv')\n",
    "\n",
    "dfs = []\n",
    "for file in all_files:\n",
    "    df = pd.read_csv(file, header=None)\n",
    "    dfs.append(df)\n",
    "    \n",
    "WSJ_Data = pd.concat(dfs, ignore_index=True, sort = False)\n"
   ]
  },
  {
   "cell_type": "code",
   "execution_count": 3,
   "id": "7dfa4575",
   "metadata": {},
   "outputs": [
    {
     "data": {
      "text/html": [
       "<div>\n",
       "<style scoped>\n",
       "    .dataframe tbody tr th:only-of-type {\n",
       "        vertical-align: middle;\n",
       "    }\n",
       "\n",
       "    .dataframe tbody tr th {\n",
       "        vertical-align: top;\n",
       "    }\n",
       "\n",
       "    .dataframe thead th {\n",
       "        text-align: right;\n",
       "    }\n",
       "</style>\n",
       "<table border=\"1\" class=\"dataframe\">\n",
       "  <thead>\n",
       "    <tr style=\"text-align: right;\">\n",
       "      <th></th>\n",
       "      <th>0</th>\n",
       "      <th>1</th>\n",
       "      <th>2</th>\n",
       "      <th>3</th>\n",
       "    </tr>\n",
       "  </thead>\n",
       "  <tbody>\n",
       "    <tr>\n",
       "      <th>0</th>\n",
       "      <td>After one of his worst ever rounds in a major,...</td>\n",
       "      <td>Tiger Woods Withdraws From the PGA Championship</td>\n",
       "      <td>The 15-time major winner turned in one of his ...</td>\n",
       "      <td>May 21, 2022 9:28 pm ET</td>\n",
       "    </tr>\n",
       "    <tr>\n",
       "      <th>1</th>\n",
       "      <td>BALTIMORE—Trainer Chad Brown had two horses ea...</td>\n",
       "      <td>Early Voting Wins the Preakness Stakes</td>\n",
       "      <td>The speedy colt had enough qualifying points t...</td>\n",
       "      <td>May 21, 2022 7:20 pm ET</td>\n",
       "    </tr>\n",
       "    <tr>\n",
       "      <th>2</th>\n",
       "      <td>High heat and humidity created sweltering cond...</td>\n",
       "      <td>New York and New England Broil in High Heat an...</td>\n",
       "      <td>Temperature climbed to 90 degrees in New York ...</td>\n",
       "      <td>May 21, 2022 5:49 pm ET</td>\n",
       "    </tr>\n",
       "    <tr>\n",
       "      <th>3</th>\n",
       "      <td>A state judge in New York late Friday adopted ...</td>\n",
       "      <td>Judge Approves Final New York District Maps Ov...</td>\n",
       "      <td>After months of legal wrangling, a state judge...</td>\n",
       "      <td>Updated May 21, 2022 3:49 pm ET</td>\n",
       "    </tr>\n",
       "    <tr>\n",
       "      <th>4</th>\n",
       "      <td>Former New York City Mayor Bill de Blasio is r...</td>\n",
       "      <td>Bill de Blasio Announces Run for Congress</td>\n",
       "      <td>Former NYC mayor plans to run for newly drawn ...</td>\n",
       "      <td>Updated May 21, 2022 3:26 pm ET</td>\n",
       "    </tr>\n",
       "    <tr>\n",
       "      <th>...</th>\n",
       "      <td>...</td>\n",
       "      <td>...</td>\n",
       "      <td>...</td>\n",
       "      <td>...</td>\n",
       "    </tr>\n",
       "    <tr>\n",
       "      <th>14105</th>\n",
       "      <td>Historian Amanda Foreman searches the past for...</td>\n",
       "      <td>Typos Have Been Around as Long as Writing Itself</td>\n",
       "      <td>Egyptian engravers, medieval scribes and even ...</td>\n",
       "      <td>May 12, 2022 4:00 pm ET</td>\n",
       "    </tr>\n",
       "    <tr>\n",
       "      <th>14106</th>\n",
       "      <td>NaN</td>\n",
       "      <td>NaN</td>\n",
       "      <td>NaN</td>\n",
       "      <td>NaN</td>\n",
       "    </tr>\n",
       "    <tr>\n",
       "      <th>14107</th>\n",
       "      <td>The families of four U.S. citizens detained in...</td>\n",
       "      <td>Iran Prisoners’ Families Ask Biden to Push for...</td>\n",
       "      <td>Stalled talks on Iran nuclear deal were expect...</td>\n",
       "      <td>Updated May 12, 2022 3:07 pm ET</td>\n",
       "    </tr>\n",
       "    <tr>\n",
       "      <th>14108</th>\n",
       "      <td>Instacart Inc.’s plans to launch a public offe...</td>\n",
       "      <td>Instacart Prepares for IPO Amid Volatile Marke...</td>\n",
       "      <td>Grocery-delivery company is positioning itself...</td>\n",
       "      <td>May 12, 2022 2:39 pm ET</td>\n",
       "    </tr>\n",
       "    <tr>\n",
       "      <th>14109</th>\n",
       "      <td>Psychologist Alison Gopnik explores new discov...</td>\n",
       "      <td>Not Everyone Can Picture Things</td>\n",
       "      <td>‘Aphantasia’ refers to some people’s inability...</td>\n",
       "      <td>May 12, 2022 2:11 pm ET</td>\n",
       "    </tr>\n",
       "  </tbody>\n",
       "</table>\n",
       "<p>14110 rows × 4 columns</p>\n",
       "</div>"
      ],
      "text/plain": [
       "                                                       0  \\\n",
       "0      After one of his worst ever rounds in a major,...   \n",
       "1      BALTIMORE—Trainer Chad Brown had two horses ea...   \n",
       "2      High heat and humidity created sweltering cond...   \n",
       "3      A state judge in New York late Friday adopted ...   \n",
       "4      Former New York City Mayor Bill de Blasio is r...   \n",
       "...                                                  ...   \n",
       "14105  Historian Amanda Foreman searches the past for...   \n",
       "14106                                                NaN   \n",
       "14107  The families of four U.S. citizens detained in...   \n",
       "14108  Instacart Inc.’s plans to launch a public offe...   \n",
       "14109  Psychologist Alison Gopnik explores new discov...   \n",
       "\n",
       "                                                       1  \\\n",
       "0        Tiger Woods Withdraws From the PGA Championship   \n",
       "1                 Early Voting Wins the Preakness Stakes   \n",
       "2      New York and New England Broil in High Heat an...   \n",
       "3      Judge Approves Final New York District Maps Ov...   \n",
       "4              Bill de Blasio Announces Run for Congress   \n",
       "...                                                  ...   \n",
       "14105   Typos Have Been Around as Long as Writing Itself   \n",
       "14106                                                NaN   \n",
       "14107  Iran Prisoners’ Families Ask Biden to Push for...   \n",
       "14108  Instacart Prepares for IPO Amid Volatile Marke...   \n",
       "14109                    Not Everyone Can Picture Things   \n",
       "\n",
       "                                                       2  \\\n",
       "0      The 15-time major winner turned in one of his ...   \n",
       "1      The speedy colt had enough qualifying points t...   \n",
       "2      Temperature climbed to 90 degrees in New York ...   \n",
       "3      After months of legal wrangling, a state judge...   \n",
       "4      Former NYC mayor plans to run for newly drawn ...   \n",
       "...                                                  ...   \n",
       "14105  Egyptian engravers, medieval scribes and even ...   \n",
       "14106                                                NaN   \n",
       "14107  Stalled talks on Iran nuclear deal were expect...   \n",
       "14108  Grocery-delivery company is positioning itself...   \n",
       "14109  ‘Aphantasia’ refers to some people’s inability...   \n",
       "\n",
       "                                     3  \n",
       "0              May 21, 2022 9:28 pm ET  \n",
       "1              May 21, 2022 7:20 pm ET  \n",
       "2              May 21, 2022 5:49 pm ET  \n",
       "3      Updated May 21, 2022 3:49 pm ET  \n",
       "4      Updated May 21, 2022 3:26 pm ET  \n",
       "...                                ...  \n",
       "14105          May 12, 2022 4:00 pm ET  \n",
       "14106                              NaN  \n",
       "14107  Updated May 12, 2022 3:07 pm ET  \n",
       "14108          May 12, 2022 2:39 pm ET  \n",
       "14109          May 12, 2022 2:11 pm ET  \n",
       "\n",
       "[14110 rows x 4 columns]"
      ]
     },
     "execution_count": 3,
     "metadata": {},
     "output_type": "execute_result"
    }
   ],
   "source": [
    "WSJ_Data"
   ]
  },
  {
   "cell_type": "code",
   "execution_count": 4,
   "id": "b0c5dd2c",
   "metadata": {},
   "outputs": [],
   "source": [
    "WSJ_Data.columns = ['Text','Headline','SubHeadline','PublishedDate']"
   ]
  },
  {
   "cell_type": "code",
   "execution_count": 5,
   "id": "88cc80d8",
   "metadata": {
    "scrolled": true
   },
   "outputs": [],
   "source": [
    "WSJ_Data = WSJ_Data.drop(columns = ['SubHeadline'], axis = 1)"
   ]
  },
  {
   "cell_type": "code",
   "execution_count": 6,
   "id": "88e5d31f",
   "metadata": {},
   "outputs": [
    {
     "name": "stdout",
     "output_type": "stream",
     "text": [
      "<class 'pandas.core.frame.DataFrame'>\n",
      "Int64Index: 6362 entries, 0 to 14109\n",
      "Data columns (total 3 columns):\n",
      " #   Column         Non-Null Count  Dtype \n",
      "---  ------         --------------  ----- \n",
      " 0   Text           6362 non-null   object\n",
      " 1   Headline       3980 non-null   object\n",
      " 2   PublishedDate  6362 non-null   object\n",
      "dtypes: object(3)\n",
      "memory usage: 198.8+ KB\n"
     ]
    }
   ],
   "source": [
    "WSJ_Data = WSJ_Data.dropna(subset=['Text', 'PublishedDate'])\n",
    "WSJ_Data.info()"
   ]
  },
  {
   "cell_type": "code",
   "execution_count": 7,
   "id": "f007dcc9",
   "metadata": {},
   "outputs": [
    {
     "data": {
      "text/plain": [
       "382"
      ]
     },
     "execution_count": 7,
     "metadata": {},
     "output_type": "execute_result"
    }
   ],
   "source": [
    "WSJ_Data['Text_US_Job_Market'] = WSJ_Data['Text'].apply(lambda x: 1 if len(re.findall(r'((?:us job market)|(?:job market)|(?:employment))', x.lower())) > 0 else 0) \n",
    "WSJ_Data['Text_US_Job_Market'].sum()"
   ]
  },
  {
   "cell_type": "code",
   "execution_count": 8,
   "id": "f8a2fda6",
   "metadata": {},
   "outputs": [],
   "source": [
    "WSJ_US_Job_Market = WSJ_Data[WSJ_Data['Text_US_Job_Market'] == 1]\n",
    "WSJ_US_Job_Market = WSJ_US_Job_Market.reset_index(drop=True)"
   ]
  },
  {
   "cell_type": "code",
   "execution_count": 9,
   "id": "d5054bf3",
   "metadata": {},
   "outputs": [
    {
     "data": {
      "text/plain": [
       "0      2022-05-21,\n",
       "1      2022-05-21,\n",
       "2      2022-01-10,\n",
       "3      2022-01-10,\n",
       "4      2022-01-10,\n",
       "          ...     \n",
       "377     2022-07-4,\n",
       "378     2022-01-5,\n",
       "379     2022-01-5,\n",
       "380     2022-01-5,\n",
       "381    2022-05-12,\n",
       "Name: PublishedDate, Length: 382, dtype: object"
      ]
     },
     "execution_count": 9,
     "metadata": {},
     "output_type": "execute_result"
    }
   ],
   "source": [
    "WSJ_US_Job_Market['PublishedDate'] = WSJ_US_Job_Market['PublishedDate'].apply(lambda x: re.sub('Updated ', '', x))\n",
    "WSJ_US_Job_Market['PublishedDate'] = WSJ_US_Job_Market['PublishedDate'].apply(lambda x: re.sub('Jan. ', '01-', x))\n",
    "WSJ_US_Job_Market['PublishedDate'] = WSJ_US_Job_Market['PublishedDate'].apply(lambda x: re.sub('Feb. ', '02-', x))\n",
    "WSJ_US_Job_Market['PublishedDate'] = WSJ_US_Job_Market['PublishedDate'].apply(lambda x: re.sub('March ', '03-', x))\n",
    "WSJ_US_Job_Market['PublishedDate'] = WSJ_US_Job_Market['PublishedDate'].apply(lambda x: re.sub('April ', '04-', x))\n",
    "WSJ_US_Job_Market['PublishedDate'] = WSJ_US_Job_Market['PublishedDate'].apply(lambda x: re.sub('May ', '05-', x))\n",
    "WSJ_US_Job_Market['PublishedDate'] = WSJ_US_Job_Market['PublishedDate'].apply(lambda x: re.sub('June ', '06-', x))\n",
    "WSJ_US_Job_Market['PublishedDate'] = WSJ_US_Job_Market['PublishedDate'].apply(lambda x: re.sub('July ', '07-', x))\n",
    "WSJ_US_Job_Market['PublishedDate'] = WSJ_US_Job_Market['PublishedDate'].apply(lambda x: re.sub('Aug. ', '08-', x))\n",
    "WSJ_US_Job_Market['PublishedDate'] = WSJ_US_Job_Market['PublishedDate'].apply(lambda x: re.sub('Sept. ', '09-', x))\n",
    "WSJ_US_Job_Market['PublishedDate'] = WSJ_US_Job_Market['PublishedDate'].apply(lambda x: re.sub('Oct. ', '10-', x))\n",
    "WSJ_US_Job_Market['PublishedDate'] = WSJ_US_Job_Market['PublishedDate'].apply(lambda x: re.sub('Nov. ', '11-', x))\n",
    "WSJ_US_Job_Market['PublishedDate'] = WSJ_US_Job_Market['PublishedDate'].apply(lambda x: re.sub('Dec. ', '12-', x))\n",
    "WSJ_US_Job_Market['PublishedDate'] = WSJ_US_Job_Market['PublishedDate'].apply(lambda x: str(re.split(' ', x)[1]) + '-' + str(re.split(' ', x)[0]))\n",
    "WSJ_US_Job_Market['PublishedDate'] "
   ]
  },
  {
   "cell_type": "code",
   "execution_count": 10,
   "id": "f0a17316",
   "metadata": {},
   "outputs": [],
   "source": [
    "WSJ_US_Job_Market['PublishedDate'] = WSJ_US_Job_Market['PublishedDate'].astype('datetime64[ns]')                                                          "
   ]
  },
  {
   "cell_type": "code",
   "execution_count": 11,
   "id": "1073bd0a",
   "metadata": {},
   "outputs": [
    {
     "data": {
      "text/html": [
       "<div>\n",
       "<style scoped>\n",
       "    .dataframe tbody tr th:only-of-type {\n",
       "        vertical-align: middle;\n",
       "    }\n",
       "\n",
       "    .dataframe tbody tr th {\n",
       "        vertical-align: top;\n",
       "    }\n",
       "\n",
       "    .dataframe thead th {\n",
       "        text-align: right;\n",
       "    }\n",
       "</style>\n",
       "<table border=\"1\" class=\"dataframe\">\n",
       "  <thead>\n",
       "    <tr style=\"text-align: right;\">\n",
       "      <th></th>\n",
       "      <th>Text</th>\n",
       "      <th>Headline</th>\n",
       "      <th>PublishedDate</th>\n",
       "    </tr>\n",
       "  </thead>\n",
       "  <tbody>\n",
       "    <tr>\n",
       "      <th>0</th>\n",
       "      <td>Nearly two years after the coronavirus pandemi...</td>\n",
       "      <td>U.S. Companies Are Thriving Despite the Pandem...</td>\n",
       "      <td>2022-01-01</td>\n",
       "    </tr>\n",
       "    <tr>\n",
       "      <th>1</th>\n",
       "      <td>WASHINGTON—The third tax-filing season during ...</td>\n",
       "      <td>Headaches and Backlogs Loom as Tax Filing Seas...</td>\n",
       "      <td>2022-01-01</td>\n",
       "    </tr>\n",
       "    <tr>\n",
       "      <th>2</th>\n",
       "      <td>The double threat of an unpredictable pandemic...</td>\n",
       "      <td>Stocks Face Rockier Path in 2022 as Fed Rate I...</td>\n",
       "      <td>2022-01-02</td>\n",
       "    </tr>\n",
       "    <tr>\n",
       "      <th>3</th>\n",
       "      <td>Economists say they expect the U.S. labor mark...</td>\n",
       "      <td>Workers Should See Job Gains Even Amid the Lat...</td>\n",
       "      <td>2022-01-02</td>\n",
       "    </tr>\n",
       "    <tr>\n",
       "      <th>4</th>\n",
       "      <td>The Labor Department’s December jobs report is...</td>\n",
       "      <td>Economy Week Ahead: Eurozone Manufacturing, U....</td>\n",
       "      <td>2022-01-02</td>\n",
       "    </tr>\n",
       "    <tr>\n",
       "      <th>...</th>\n",
       "      <td>...</td>\n",
       "      <td>...</td>\n",
       "      <td>...</td>\n",
       "    </tr>\n",
       "    <tr>\n",
       "      <th>377</th>\n",
       "      <td>S&amp;P Global releases October business-activity ...</td>\n",
       "      <td>Economy Week Ahead: U.S. GDP and Wages; Moneta...</td>\n",
       "      <td>2022-10-23</td>\n",
       "    </tr>\n",
       "    <tr>\n",
       "      <th>378</th>\n",
       "      <td>U.S. stocks gained on Monday as investors focu...</td>\n",
       "      <td>Dow Closes at Highest Level in Six Weeks</td>\n",
       "      <td>2022-10-24</td>\n",
       "    </tr>\n",
       "    <tr>\n",
       "      <th>379</th>\n",
       "      <td>An all-volunteer military has defended the U.S...</td>\n",
       "      <td>NaN</td>\n",
       "      <td>2022-10-24</td>\n",
       "    </tr>\n",
       "    <tr>\n",
       "      <th>380</th>\n",
       "      <td>Rishi Sunak is prime minister. And not of Indi...</td>\n",
       "      <td>NaN</td>\n",
       "      <td>2022-10-25</td>\n",
       "    </tr>\n",
       "    <tr>\n",
       "      <th>381</th>\n",
       "      <td>Democrats face a double whammy in next month’s...</td>\n",
       "      <td>NaN</td>\n",
       "      <td>2022-10-25</td>\n",
       "    </tr>\n",
       "  </tbody>\n",
       "</table>\n",
       "<p>382 rows × 3 columns</p>\n",
       "</div>"
      ],
      "text/plain": [
       "                                                  Text  \\\n",
       "0    Nearly two years after the coronavirus pandemi...   \n",
       "1    WASHINGTON—The third tax-filing season during ...   \n",
       "2    The double threat of an unpredictable pandemic...   \n",
       "3    Economists say they expect the U.S. labor mark...   \n",
       "4    The Labor Department’s December jobs report is...   \n",
       "..                                                 ...   \n",
       "377  S&P Global releases October business-activity ...   \n",
       "378  U.S. stocks gained on Monday as investors focu...   \n",
       "379  An all-volunteer military has defended the U.S...   \n",
       "380  Rishi Sunak is prime minister. And not of Indi...   \n",
       "381  Democrats face a double whammy in next month’s...   \n",
       "\n",
       "                                              Headline PublishedDate  \n",
       "0    U.S. Companies Are Thriving Despite the Pandem...    2022-01-01  \n",
       "1    Headaches and Backlogs Loom as Tax Filing Seas...    2022-01-01  \n",
       "2    Stocks Face Rockier Path in 2022 as Fed Rate I...    2022-01-02  \n",
       "3    Workers Should See Job Gains Even Amid the Lat...    2022-01-02  \n",
       "4    Economy Week Ahead: Eurozone Manufacturing, U....    2022-01-02  \n",
       "..                                                 ...           ...  \n",
       "377  Economy Week Ahead: U.S. GDP and Wages; Moneta...    2022-10-23  \n",
       "378           Dow Closes at Highest Level in Six Weeks    2022-10-24  \n",
       "379                                                NaN    2022-10-24  \n",
       "380                                                NaN    2022-10-25  \n",
       "381                                                NaN    2022-10-25  \n",
       "\n",
       "[382 rows x 3 columns]"
      ]
     },
     "execution_count": 11,
     "metadata": {},
     "output_type": "execute_result"
    }
   ],
   "source": [
    "WSJ_US_Job_Market = WSJ_US_Job_Market.sort_values(by=['PublishedDate']).reset_index(drop=True)\n",
    "WSJ_US_Job_Market = WSJ_US_Job_Market.drop(columns = ['Text_US_Job_Market'])\n",
    "WSJ_US_Job_Market"
   ]
  },
  {
   "cell_type": "code",
   "execution_count": 12,
   "id": "925b82b8",
   "metadata": {},
   "outputs": [],
   "source": [
    "WSJ_US_Job_Market.to_csv('Text_US_Job_Market.csv', index = False)"
   ]
  }
 ],
 "metadata": {
  "kernelspec": {
   "display_name": "Python 3 (ipykernel)",
   "language": "python",
   "name": "python3"
  },
  "language_info": {
   "codemirror_mode": {
    "name": "ipython",
    "version": 3
   },
   "file_extension": ".py",
   "mimetype": "text/x-python",
   "name": "python",
   "nbconvert_exporter": "python",
   "pygments_lexer": "ipython3",
   "version": "3.9.12"
  }
 },
 "nbformat": 4,
 "nbformat_minor": 5
}
